{
 "cells": [
  {
   "cell_type": "code",
   "execution_count": 1,
   "id": "2518d094",
   "metadata": {},
   "outputs": [
    {
     "name": "stdout",
     "output_type": "stream",
     "text": [
      "(<function <lambda> at 0x0000022080FB55E0>, [('sachin Tendulkar', 34357), ('Ricky Ponting', 27483), ('Jack kallis', 25534), ('virat kohli', 24936)])\n"
     ]
    }
   ],
   "source": [
    "# que.1\n",
    "a=[('sachin Tendulkar',34357),('Ricky Ponting',27483),('Jack kallis',25534),('virat kohli',24936)]\n",
    "f=lambda z: z.sort(),a\n",
    "print(f)"
   ]
  },
  {
   "cell_type": "code",
   "execution_count": 2,
   "id": "97df1f79",
   "metadata": {},
   "outputs": [
    {
     "data": {
      "text/plain": [
       "[1, 4, 9, 16, 25, 36, 49, 64, 81, 100]"
      ]
     },
     "execution_count": 2,
     "metadata": {},
     "output_type": "execute_result"
    }
   ],
   "source": [
    "# que.2\n",
    "b=[1,2,3,4,5,6,7,8,9,10]\n",
    "d=map(lambda x:x**2,b)\n",
    "list(d)"
   ]
  },
  {
   "cell_type": "code",
   "execution_count": 5,
   "id": "5d08bf7c",
   "metadata": {},
   "outputs": [
    {
     "data": {
      "text/plain": [
       "15511210043330985984000000"
      ]
     },
     "execution_count": 5,
     "metadata": {},
     "output_type": "execute_result"
    }
   ],
   "source": [
    "# que.4\n",
    "a=[1,2,3,4,5,6,7,8,9,10,11,12,13,14,15,16,17,18,19,20,21,22,23,24,25]\n",
    "from functools import reduce\n",
    "d=reduce(lambda x,y:x*y,a)\n",
    "d"
   ]
  },
  {
   "cell_type": "code",
   "execution_count": 6,
   "id": "967ed42f",
   "metadata": {},
   "outputs": [
    {
     "data": {
      "text/plain": [
       "[2, 3, 6, 9, 27, 60, 90, 120, 46]"
      ]
     },
     "execution_count": 6,
     "metadata": {},
     "output_type": "execute_result"
    }
   ],
   "source": [
    "#q.5\n",
    "b=[2,3,6,9,27,60,90,120,55,46]\n",
    "list(filter(lambda x:x%2==0 or x%3==0,b))"
   ]
  },
  {
   "cell_type": "code",
   "execution_count": 8,
   "id": "81ce9a85",
   "metadata": {},
   "outputs": [
    {
     "data": {
      "text/plain": [
       "[]"
      ]
     },
     "execution_count": 8,
     "metadata": {},
     "output_type": "execute_result"
    }
   ],
   "source": [
    "#que.6\n",
    "l=['python','php','aba','radar','level']\n",
    "list(filter(lambda s: s=='palindromes',l))"
   ]
  },
  {
   "cell_type": "code",
   "execution_count": null,
   "id": "d6785c1e",
   "metadata": {},
   "outputs": [],
   "source": []
  }
 ],
 "metadata": {
  "kernelspec": {
   "display_name": "Python 3 (ipykernel)",
   "language": "python",
   "name": "python3"
  },
  "language_info": {
   "codemirror_mode": {
    "name": "ipython",
    "version": 3
   },
   "file_extension": ".py",
   "mimetype": "text/x-python",
   "name": "python",
   "nbconvert_exporter": "python",
   "pygments_lexer": "ipython3",
   "version": "3.9.13"
  }
 },
 "nbformat": 4,
 "nbformat_minor": 5
}
